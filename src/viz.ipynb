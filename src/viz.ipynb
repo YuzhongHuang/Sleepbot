{
 "metadata": {
  "name": "",
  "signature": "sha256:1fd4a4b34c0e9e13e8e0d4b6cd55a8dfd21ae6ce1c96771d1a54c5081c2fcf9e"
 },
 "nbformat": 3,
 "nbformat_minor": 0,
 "worksheets": [
  {
   "cells": [
    {
     "cell_type": "code",
     "collapsed": false,
     "input": [
      "import numpy as np\n",
      "from scipy import stats\n",
      "import matplotlib.pyplot as plt\n",
      "from mpl_toolkits.mplot3d import Axes3D\n",
      "\n",
      "import networks"
     ],
     "language": "python",
     "metadata": {},
     "outputs": [],
     "prompt_number": 1
    },
    {
     "cell_type": "code",
     "collapsed": false,
     "input": [
      "net = networks.Network([10,10,10], 30, 2000)"
     ],
     "language": "python",
     "metadata": {},
     "outputs": [],
     "prompt_number": 2
    },
    {
     "cell_type": "code",
     "collapsed": false,
     "input": [
      "net.feedforward(abs(np.random.randn(40, 10, 10)))"
     ],
     "language": "python",
     "metadata": {},
     "outputs": [],
     "prompt_number": 3
    },
    {
     "cell_type": "code",
     "collapsed": false,
     "input": [
      "xs, ys, zs = zip(*net.pos)\n",
      "nucleus = [n.nucleus for n in net.neurons]"
     ],
     "language": "python",
     "metadata": {},
     "outputs": [],
     "prompt_number": 8
    },
    {
     "cell_type": "code",
     "collapsed": false,
     "input": [
      "fig = plt.figure()\n",
      "ax = fig.add_subplot(111, projection='3d')\n",
      "\n",
      "ax.scatter(xs, ys, zs, s=80, c=nucleus, depthshade=False)\n",
      "plt.show()"
     ],
     "language": "python",
     "metadata": {},
     "outputs": [],
     "prompt_number": 5
    },
    {
     "cell_type": "code",
     "collapsed": false,
     "input": [
      "net.output"
     ],
     "language": "python",
     "metadata": {},
     "outputs": [
      {
       "metadata": {},
       "output_type": "pyout",
       "prompt_number": 6,
       "text": [
        "[2.464768024290864e+17,\n",
        " 1.330555105719489e+18,\n",
        " 3.3730660911921889e+18,\n",
        " 5.599897791713537e+18,\n",
        " 7.177171818952362e+18,\n",
        " 7.9735315527534111e+18,\n",
        " 8.2966546719749366e+18,\n",
        " 8.3731870295361679e+18,\n",
        " 8.2988172100383549e+18,\n",
        " 8.1925648389758054e+18,\n",
        " 8.1626174819190067e+18,\n",
        " 8.1978452617970463e+18,\n",
        " 8.2235541309476639e+18,\n",
        " 8.2283806748643635e+18,\n",
        " 8.2455601135464008e+18,\n",
        " 8.3027969694283233e+18,\n",
        " 8.3932776092971325e+18,\n",
        " 8.4622245051943004e+18,\n",
        " 8.453179648214572e+18,\n",
        " 8.3820018681722388e+18,\n",
        " 8.0671799225714104e+18,\n",
        " 6.9743465029303562e+18,\n",
        " 4.9968676124236247e+18,\n",
        " 2.8505431169928827e+18,\n",
        " 1.2874746764400788e+18,\n",
        " 4.6566713863316288e+17,\n",
        " 1.372760218606135e+17,\n",
        " 33608959851721640.0,\n",
        " 6956321015421984.0,\n",
        " 1237075283924223.5,\n",
        " 191916537705717.12,\n",
        " 26384768389270.062,\n",
        " 3271410607199.7856,\n",
        " 373227690557.37341,\n",
        " 40103804685.177742,\n",
        " 4165739062.1579342,\n",
        " 427437002.35668343,\n",
        " 43645658.688125566,\n",
        " 4506264.8281767741,\n",
        " 466275.43070738012,\n",
        " 42199.786785025572,\n",
        " 2882.0500280026154,\n",
        " 123.74765207624732,\n",
        " 2.1457003217766935]"
       ]
      }
     ],
     "prompt_number": 6
    }
   ],
   "metadata": {}
  }
 ]
}