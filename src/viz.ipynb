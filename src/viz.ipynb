{
 "metadata": {
  "name": "",
  "signature": "sha256:426411ab93d244edd148bab78c4c238a31bd8d01aa982bd0ae2ea65a1af2c471"
 },
 "nbformat": 3,
 "nbformat_minor": 0,
 "worksheets": [
  {
   "cells": [
    {
     "cell_type": "code",
     "collapsed": false,
     "input": [
      "import numpy as np\n",
      "from scipy import stats\n",
      "import matplotlib.pyplot as plt\n",
      "from mpl_toolkits.mplot3d import Axes3D\n",
      "\n",
      "import networks"
     ],
     "language": "python",
     "metadata": {},
     "outputs": [],
     "prompt_number": 3
    },
    {
     "cell_type": "code",
     "collapsed": false,
     "input": [
      "net = networks.Network([10,10,10], 30, 2000)"
     ],
     "language": "python",
     "metadata": {},
     "outputs": [
      {
       "output_type": "stream",
       "stream": "stdout",
       "text": [
        "0\n",
        "1\n",
        "2\n",
        "3"
       ]
      },
      {
       "output_type": "stream",
       "stream": "stdout",
       "text": [
        "\n",
        "4\n",
        "5\n",
        "6\n",
        "7"
       ]
      },
      {
       "output_type": "stream",
       "stream": "stdout",
       "text": [
        "\n",
        "8\n",
        "9\n",
        "10\n",
        "11"
       ]
      },
      {
       "output_type": "stream",
       "stream": "stdout",
       "text": [
        "\n",
        "12\n",
        "13\n",
        "14\n",
        "15"
       ]
      },
      {
       "output_type": "stream",
       "stream": "stdout",
       "text": [
        "\n",
        "16\n",
        "17\n",
        "18\n",
        "19"
       ]
      },
      {
       "output_type": "stream",
       "stream": "stdout",
       "text": [
        "\n",
        "20\n",
        "21\n",
        "22\n",
        "23"
       ]
      },
      {
       "output_type": "stream",
       "stream": "stdout",
       "text": [
        "\n",
        "24\n",
        "25\n",
        "26\n",
        "27"
       ]
      },
      {
       "output_type": "stream",
       "stream": "stdout",
       "text": [
        "\n",
        "28\n",
        "29\n",
        "30\n",
        "31"
       ]
      },
      {
       "output_type": "stream",
       "stream": "stdout",
       "text": [
        "\n",
        "32\n",
        "33\n",
        "34\n",
        "35"
       ]
      },
      {
       "output_type": "stream",
       "stream": "stdout",
       "text": [
        "\n",
        "36\n",
        "37\n",
        "38\n",
        "39"
       ]
      },
      {
       "output_type": "stream",
       "stream": "stdout",
       "text": [
        "\n",
        "40\n",
        "41\n",
        "42\n",
        "43"
       ]
      },
      {
       "output_type": "stream",
       "stream": "stdout",
       "text": [
        "\n",
        "44\n",
        "45\n",
        "46\n",
        "47"
       ]
      },
      {
       "output_type": "stream",
       "stream": "stdout",
       "text": [
        "\n",
        "48\n",
        "49\n",
        "50\n",
        "51"
       ]
      },
      {
       "output_type": "stream",
       "stream": "stdout",
       "text": [
        "\n",
        "52\n",
        "53\n",
        "54\n",
        "55"
       ]
      },
      {
       "output_type": "stream",
       "stream": "stdout",
       "text": [
        "\n",
        "56\n",
        "57\n",
        "58\n",
        "59"
       ]
      },
      {
       "output_type": "stream",
       "stream": "stdout",
       "text": [
        "\n",
        "60\n",
        "61\n",
        "62\n",
        "63"
       ]
      },
      {
       "output_type": "stream",
       "stream": "stdout",
       "text": [
        "\n",
        "64\n",
        "65\n",
        "66\n",
        "67"
       ]
      },
      {
       "output_type": "stream",
       "stream": "stdout",
       "text": [
        "\n",
        "68\n",
        "69\n",
        "70\n",
        "71"
       ]
      },
      {
       "output_type": "stream",
       "stream": "stdout",
       "text": [
        "\n",
        "72\n",
        "73\n",
        "74\n",
        "75"
       ]
      },
      {
       "output_type": "stream",
       "stream": "stdout",
       "text": [
        "\n",
        "76\n",
        "77\n",
        "78\n",
        "79"
       ]
      },
      {
       "output_type": "stream",
       "stream": "stdout",
       "text": [
        "\n",
        "80\n",
        "81\n",
        "82\n",
        "83"
       ]
      },
      {
       "output_type": "stream",
       "stream": "stdout",
       "text": [
        "\n",
        "84\n",
        "85\n",
        "86\n",
        "87"
       ]
      },
      {
       "output_type": "stream",
       "stream": "stdout",
       "text": [
        "\n",
        "88\n",
        "89\n",
        "90\n",
        "91"
       ]
      },
      {
       "output_type": "stream",
       "stream": "stdout",
       "text": [
        "\n",
        "92\n",
        "93\n",
        "94"
       ]
      },
      {
       "output_type": "stream",
       "stream": "stdout",
       "text": [
        "\n",
        "95\n",
        "96\n",
        "97\n",
        "98"
       ]
      },
      {
       "output_type": "stream",
       "stream": "stdout",
       "text": [
        "\n",
        "99\n",
        "100\n",
        "101\n",
        "102"
       ]
      },
      {
       "output_type": "stream",
       "stream": "stdout",
       "text": [
        "\n",
        "103\n",
        "104\n",
        "105\n",
        "106"
       ]
      },
      {
       "output_type": "stream",
       "stream": "stdout",
       "text": [
        "\n",
        "107\n",
        "108\n",
        "109\n",
        "110"
       ]
      },
      {
       "output_type": "stream",
       "stream": "stdout",
       "text": [
        "\n",
        "111\n",
        "112\n",
        "113\n",
        "114"
       ]
      },
      {
       "output_type": "stream",
       "stream": "stdout",
       "text": [
        "\n",
        "115\n",
        "116\n",
        "117\n",
        "118"
       ]
      },
      {
       "output_type": "stream",
       "stream": "stdout",
       "text": [
        "\n",
        "119\n",
        "120\n",
        "121\n",
        "122"
       ]
      },
      {
       "output_type": "stream",
       "stream": "stdout",
       "text": [
        "\n",
        "123\n",
        "124\n",
        "125\n",
        "126"
       ]
      },
      {
       "output_type": "stream",
       "stream": "stdout",
       "text": [
        "\n",
        "127\n",
        "128\n",
        "129\n",
        "130"
       ]
      },
      {
       "output_type": "stream",
       "stream": "stdout",
       "text": [
        "\n",
        "131\n",
        "132\n",
        "133\n",
        "134\n",
        "135"
       ]
      },
      {
       "output_type": "stream",
       "stream": "stdout",
       "text": [
        "\n",
        "136\n",
        "137\n",
        "138\n",
        "139\n",
        "140"
       ]
      },
      {
       "output_type": "stream",
       "stream": "stdout",
       "text": [
        "\n",
        "141\n",
        "142\n",
        "143"
       ]
      },
      {
       "output_type": "stream",
       "stream": "stdout",
       "text": [
        "\n",
        "144\n",
        "145\n",
        "146"
       ]
      },
      {
       "output_type": "stream",
       "stream": "stdout",
       "text": [
        "\n",
        "147\n",
        "148\n",
        "149"
       ]
      },
      {
       "output_type": "stream",
       "stream": "stdout",
       "text": [
        "\n",
        "150\n",
        "151\n",
        "152\n",
        "153"
       ]
      },
      {
       "output_type": "stream",
       "stream": "stdout",
       "text": [
        "\n",
        "154\n",
        "155\n",
        "156\n",
        "157\n",
        "158"
       ]
      },
      {
       "output_type": "stream",
       "stream": "stdout",
       "text": [
        "\n",
        "159\n",
        "160\n",
        "161\n",
        "162\n",
        "163"
       ]
      },
      {
       "output_type": "stream",
       "stream": "stdout",
       "text": [
        "\n",
        "164\n",
        "165\n",
        "166\n",
        "167"
       ]
      },
      {
       "output_type": "stream",
       "stream": "stdout",
       "text": [
        "\n",
        "168\n",
        "169\n",
        "170\n",
        "171"
       ]
      },
      {
       "output_type": "stream",
       "stream": "stdout",
       "text": [
        "\n",
        "172\n",
        "173\n",
        "174\n"
       ]
      },
      {
       "output_type": "stream",
       "stream": "stdout",
       "text": [
        "175\n",
        "176\n",
        "177\n",
        "178\n",
        "179"
       ]
      },
      {
       "output_type": "stream",
       "stream": "stdout",
       "text": [
        "\n",
        "180\n",
        "181\n",
        "182\n",
        "183"
       ]
      },
      {
       "output_type": "stream",
       "stream": "stdout",
       "text": [
        "\n",
        "184\n",
        "185\n",
        "186\n",
        "187"
       ]
      },
      {
       "output_type": "stream",
       "stream": "stdout",
       "text": [
        "\n",
        "188\n",
        "189\n",
        "190\n",
        "191"
       ]
      },
      {
       "output_type": "stream",
       "stream": "stdout",
       "text": [
        "\n",
        "192\n",
        "193\n",
        "194\n",
        "195"
       ]
      },
      {
       "output_type": "stream",
       "stream": "stdout",
       "text": [
        "\n",
        "196\n",
        "197\n",
        "198\n",
        "199\n",
        "200"
       ]
      },
      {
       "output_type": "stream",
       "stream": "stdout",
       "text": [
        "\n",
        "201\n",
        "202\n",
        "203\n",
        "204\n",
        "205"
       ]
      },
      {
       "output_type": "stream",
       "stream": "stdout",
       "text": [
        "\n",
        "206\n",
        "207\n",
        "208\n",
        "209\n",
        "210"
       ]
      },
      {
       "output_type": "stream",
       "stream": "stdout",
       "text": [
        "\n",
        "211\n",
        "212\n",
        "213\n",
        "214\n",
        "215"
       ]
      },
      {
       "output_type": "stream",
       "stream": "stdout",
       "text": [
        "\n",
        "216\n",
        "217\n",
        "218\n",
        "219"
       ]
      },
      {
       "output_type": "stream",
       "stream": "stdout",
       "text": [
        "\n",
        "220\n",
        "221\n",
        "222\n",
        "223\n",
        "224"
       ]
      },
      {
       "output_type": "stream",
       "stream": "stdout",
       "text": [
        "\n",
        "225\n",
        "226\n",
        "227\n",
        "228"
       ]
      },
      {
       "output_type": "stream",
       "stream": "stdout",
       "text": [
        "\n",
        "229\n",
        "230\n",
        "231"
       ]
      },
      {
       "output_type": "stream",
       "stream": "stdout",
       "text": [
        "\n",
        "232\n",
        "233\n",
        "234"
       ]
      },
      {
       "output_type": "stream",
       "stream": "stdout",
       "text": [
        "\n",
        "235\n",
        "236\n",
        "237"
       ]
      },
      {
       "output_type": "stream",
       "stream": "stdout",
       "text": [
        "\n",
        "238\n",
        "239\n",
        "240\n",
        "241"
       ]
      },
      {
       "output_type": "stream",
       "stream": "stdout",
       "text": [
        "\n",
        "242\n",
        "243\n",
        "244\n",
        "245"
       ]
      },
      {
       "output_type": "stream",
       "stream": "stdout",
       "text": [
        "\n",
        "246\n",
        "247\n",
        "248\n",
        "249\n",
        "250"
       ]
      },
      {
       "output_type": "stream",
       "stream": "stdout",
       "text": [
        "\n",
        "251\n",
        "252\n",
        "253\n",
        "254\n",
        "255"
       ]
      },
      {
       "output_type": "stream",
       "stream": "stdout",
       "text": [
        "\n",
        "256\n",
        "257\n",
        "258\n",
        "259\n",
        "260"
       ]
      },
      {
       "output_type": "stream",
       "stream": "stdout",
       "text": [
        "\n",
        "261\n",
        "262\n",
        "263\n",
        "264\n",
        "265"
       ]
      },
      {
       "output_type": "stream",
       "stream": "stdout",
       "text": [
        "\n",
        "266\n",
        "267\n",
        "268\n",
        "269\n",
        "270"
       ]
      },
      {
       "output_type": "stream",
       "stream": "stdout",
       "text": [
        "\n",
        "271\n",
        "272\n",
        "273\n",
        "274\n",
        "275"
       ]
      },
      {
       "output_type": "stream",
       "stream": "stdout",
       "text": [
        "\n",
        "276\n",
        "277\n",
        "278\n",
        "279\n",
        "280"
       ]
      },
      {
       "output_type": "stream",
       "stream": "stdout",
       "text": [
        "\n",
        "281\n",
        "282\n",
        "283\n",
        "284\n",
        "285"
       ]
      },
      {
       "output_type": "stream",
       "stream": "stdout",
       "text": [
        "\n",
        "286\n",
        "287\n",
        "288\n",
        "289\n",
        "290"
       ]
      },
      {
       "output_type": "stream",
       "stream": "stdout",
       "text": [
        "\n",
        "291\n",
        "292\n",
        "293\n",
        "294\n",
        "295"
       ]
      },
      {
       "output_type": "stream",
       "stream": "stdout",
       "text": [
        "\n",
        "296\n",
        "297\n",
        "298\n",
        "299\n",
        "300"
       ]
      },
      {
       "output_type": "stream",
       "stream": "stdout",
       "text": [
        "\n",
        "301\n",
        "302\n",
        "303\n",
        "304\n",
        "305"
       ]
      },
      {
       "output_type": "stream",
       "stream": "stdout",
       "text": [
        "\n",
        "306\n",
        "307\n",
        "308\n",
        "309\n",
        "310"
       ]
      },
      {
       "output_type": "stream",
       "stream": "stdout",
       "text": [
        "\n",
        "311\n",
        "312\n",
        "313\n",
        "314\n",
        "315"
       ]
      },
      {
       "output_type": "stream",
       "stream": "stdout",
       "text": [
        "\n",
        "316\n",
        "317\n",
        "318\n",
        "319\n",
        "320"
       ]
      },
      {
       "output_type": "stream",
       "stream": "stdout",
       "text": [
        "\n",
        "321\n",
        "322\n",
        "323\n",
        "324\n",
        "325"
       ]
      },
      {
       "output_type": "stream",
       "stream": "stdout",
       "text": [
        "\n",
        "326\n",
        "327\n",
        "328\n",
        "329\n",
        "330"
       ]
      },
      {
       "output_type": "stream",
       "stream": "stdout",
       "text": [
        "\n",
        "331\n",
        "332\n",
        "333\n",
        "334\n",
        "335"
       ]
      },
      {
       "output_type": "stream",
       "stream": "stdout",
       "text": [
        "\n",
        "336\n",
        "337\n",
        "338\n",
        "339\n",
        "340"
       ]
      },
      {
       "output_type": "stream",
       "stream": "stdout",
       "text": [
        "\n",
        "341\n",
        "342\n",
        "343\n",
        "344\n",
        "345"
       ]
      },
      {
       "output_type": "stream",
       "stream": "stdout",
       "text": [
        "\n",
        "346\n",
        "347\n",
        "348\n",
        "349\n",
        "350"
       ]
      },
      {
       "output_type": "stream",
       "stream": "stdout",
       "text": [
        "\n",
        "351\n",
        "352\n",
        "353\n",
        "354\n",
        "355"
       ]
      },
      {
       "output_type": "stream",
       "stream": "stdout",
       "text": [
        "\n",
        "356\n",
        "357\n",
        "358\n",
        "359\n",
        "360"
       ]
      },
      {
       "output_type": "stream",
       "stream": "stdout",
       "text": [
        "\n",
        "361\n",
        "362\n",
        "363\n",
        "364\n",
        "365"
       ]
      },
      {
       "output_type": "stream",
       "stream": "stdout",
       "text": [
        "\n",
        "366\n",
        "367\n",
        "368\n",
        "369\n",
        "370"
       ]
      },
      {
       "output_type": "stream",
       "stream": "stdout",
       "text": [
        "\n",
        "371\n",
        "372\n",
        "373\n",
        "374\n",
        "375"
       ]
      },
      {
       "output_type": "stream",
       "stream": "stdout",
       "text": [
        "\n",
        "376\n",
        "377\n",
        "378\n",
        "379\n",
        "380"
       ]
      },
      {
       "output_type": "stream",
       "stream": "stdout",
       "text": [
        "\n",
        "381\n",
        "382\n",
        "383\n",
        "384\n",
        "385"
       ]
      },
      {
       "output_type": "stream",
       "stream": "stdout",
       "text": [
        "\n",
        "386\n",
        "387\n",
        "388\n",
        "389\n",
        "390"
       ]
      },
      {
       "output_type": "stream",
       "stream": "stdout",
       "text": [
        "\n",
        "391\n",
        "392\n",
        "393\n",
        "394\n",
        "395"
       ]
      },
      {
       "output_type": "stream",
       "stream": "stdout",
       "text": [
        "\n",
        "396\n",
        "397\n",
        "398\n",
        "399\n",
        "400"
       ]
      },
      {
       "output_type": "stream",
       "stream": "stdout",
       "text": [
        "\n",
        "401\n",
        "402\n",
        "403\n",
        "404\n",
        "405"
       ]
      },
      {
       "output_type": "stream",
       "stream": "stdout",
       "text": [
        "\n",
        "406\n",
        "407\n",
        "408\n",
        "409\n",
        "410"
       ]
      },
      {
       "output_type": "stream",
       "stream": "stdout",
       "text": [
        "\n",
        "411\n",
        "412\n",
        "413\n",
        "414\n",
        "415"
       ]
      },
      {
       "output_type": "stream",
       "stream": "stdout",
       "text": [
        "\n",
        "416\n",
        "417\n",
        "418\n",
        "419\n",
        "420"
       ]
      },
      {
       "output_type": "stream",
       "stream": "stdout",
       "text": [
        "\n",
        "421\n",
        "422\n",
        "423\n",
        "424\n",
        "425"
       ]
      },
      {
       "output_type": "stream",
       "stream": "stdout",
       "text": [
        "\n",
        "426\n",
        "427\n",
        "428\n",
        "429\n",
        "430"
       ]
      },
      {
       "output_type": "stream",
       "stream": "stdout",
       "text": [
        "\n",
        "431\n",
        "432\n",
        "433\n",
        "434\n",
        "435"
       ]
      },
      {
       "output_type": "stream",
       "stream": "stdout",
       "text": [
        "\n",
        "436\n",
        "437\n",
        "438\n",
        "439\n",
        "440"
       ]
      },
      {
       "output_type": "stream",
       "stream": "stdout",
       "text": [
        "\n",
        "441\n",
        "442\n",
        "443\n",
        "444\n",
        "445"
       ]
      },
      {
       "output_type": "stream",
       "stream": "stdout",
       "text": [
        "\n",
        "446\n",
        "447\n",
        "448\n",
        "449\n",
        "450"
       ]
      },
      {
       "output_type": "stream",
       "stream": "stdout",
       "text": [
        "\n",
        "451\n",
        "452\n",
        "453\n",
        "454\n",
        "455"
       ]
      },
      {
       "output_type": "stream",
       "stream": "stdout",
       "text": [
        "\n",
        "456\n",
        "457\n",
        "458\n",
        "459\n",
        "460"
       ]
      },
      {
       "output_type": "stream",
       "stream": "stdout",
       "text": [
        "\n",
        "461\n",
        "462\n",
        "463\n",
        "464\n",
        "465"
       ]
      },
      {
       "output_type": "stream",
       "stream": "stdout",
       "text": [
        "\n",
        "466\n",
        "467\n",
        "468\n",
        "469\n",
        "470"
       ]
      },
      {
       "output_type": "stream",
       "stream": "stdout",
       "text": [
        "\n",
        "471\n",
        "472\n",
        "473\n",
        "474\n",
        "475"
       ]
      },
      {
       "output_type": "stream",
       "stream": "stdout",
       "text": [
        "\n",
        "476\n",
        "477\n",
        "478\n",
        "479\n",
        "480"
       ]
      },
      {
       "output_type": "stream",
       "stream": "stdout",
       "text": [
        "\n",
        "481\n",
        "482\n",
        "483\n",
        "484\n",
        "485"
       ]
      },
      {
       "output_type": "stream",
       "stream": "stdout",
       "text": [
        "\n",
        "486\n",
        "487\n",
        "488\n",
        "489\n",
        "490"
       ]
      },
      {
       "output_type": "stream",
       "stream": "stdout",
       "text": [
        "\n",
        "491\n",
        "492\n",
        "493\n",
        "494\n",
        "495"
       ]
      },
      {
       "output_type": "stream",
       "stream": "stdout",
       "text": [
        "\n",
        "496\n",
        "497\n",
        "498\n",
        "499\n",
        "500"
       ]
      },
      {
       "output_type": "stream",
       "stream": "stdout",
       "text": [
        "\n",
        "501\n",
        "502\n",
        "503\n",
        "504\n",
        "505"
       ]
      },
      {
       "output_type": "stream",
       "stream": "stdout",
       "text": [
        "\n",
        "506\n",
        "507\n",
        "508\n",
        "509\n",
        "510"
       ]
      },
      {
       "output_type": "stream",
       "stream": "stdout",
       "text": [
        "\n",
        "511\n",
        "512\n",
        "513\n",
        "514\n",
        "515\n",
        "516"
       ]
      },
      {
       "output_type": "stream",
       "stream": "stdout",
       "text": [
        "\n",
        "517\n",
        "518\n",
        "519\n",
        "520\n",
        "521"
       ]
      },
      {
       "output_type": "stream",
       "stream": "stdout",
       "text": [
        "\n",
        "522\n",
        "523\n",
        "524\n",
        "525\n",
        "526\n",
        "527"
       ]
      },
      {
       "output_type": "stream",
       "stream": "stdout",
       "text": [
        "\n",
        "528\n",
        "529\n",
        "530\n",
        "531\n",
        "532\n",
        "533"
       ]
      },
      {
       "output_type": "stream",
       "stream": "stdout",
       "text": [
        "\n",
        "534\n",
        "535\n",
        "536\n",
        "537\n",
        "538\n",
        "539"
       ]
      },
      {
       "output_type": "stream",
       "stream": "stdout",
       "text": [
        "\n",
        "540\n",
        "541\n",
        "542\n",
        "543\n",
        "544\n",
        "545"
       ]
      },
      {
       "output_type": "stream",
       "stream": "stdout",
       "text": [
        "\n",
        "546\n",
        "547\n",
        "548\n",
        "549\n",
        "550\n",
        "551"
       ]
      },
      {
       "output_type": "stream",
       "stream": "stdout",
       "text": [
        "\n",
        "552\n",
        "553\n",
        "554\n",
        "555\n",
        "556\n",
        "557"
       ]
      },
      {
       "output_type": "stream",
       "stream": "stdout",
       "text": [
        "\n",
        "558\n",
        "559\n",
        "560\n",
        "561\n",
        "562\n",
        "563"
       ]
      },
      {
       "output_type": "stream",
       "stream": "stdout",
       "text": [
        "\n",
        "564\n",
        "565\n",
        "566\n",
        "567\n",
        "568\n",
        "569"
       ]
      },
      {
       "output_type": "stream",
       "stream": "stdout",
       "text": [
        "\n",
        "570\n",
        "571\n",
        "572\n",
        "573\n",
        "574\n",
        "575"
       ]
      },
      {
       "output_type": "stream",
       "stream": "stdout",
       "text": [
        "\n",
        "576\n",
        "577\n",
        "578\n",
        "579\n",
        "580\n",
        "581"
       ]
      },
      {
       "output_type": "stream",
       "stream": "stdout",
       "text": [
        "\n",
        "582\n",
        "583\n",
        "584\n",
        "585\n",
        "586"
       ]
      },
      {
       "output_type": "stream",
       "stream": "stdout",
       "text": [
        "\n",
        "587\n",
        "588\n",
        "589\n",
        "590\n",
        "591"
       ]
      },
      {
       "output_type": "stream",
       "stream": "stdout",
       "text": [
        "\n",
        "592\n",
        "593\n",
        "594\n",
        "595\n",
        "596"
       ]
      },
      {
       "output_type": "stream",
       "stream": "stdout",
       "text": [
        "\n",
        "597\n",
        "598\n",
        "599\n",
        "600\n",
        "601\n",
        "602"
       ]
      },
      {
       "output_type": "stream",
       "stream": "stdout",
       "text": [
        "\n",
        "603\n",
        "604\n",
        "605\n",
        "606\n",
        "607\n",
        "608"
       ]
      },
      {
       "output_type": "stream",
       "stream": "stdout",
       "text": [
        "\n",
        "609\n",
        "610\n",
        "611\n",
        "612\n",
        "613"
       ]
      },
      {
       "output_type": "stream",
       "stream": "stdout",
       "text": [
        "\n",
        "614\n",
        "615\n",
        "616\n",
        "617\n",
        "618\n",
        "619"
       ]
      },
      {
       "output_type": "stream",
       "stream": "stdout",
       "text": [
        "\n",
        "620\n",
        "621\n",
        "622\n",
        "623\n",
        "624\n",
        "625"
       ]
      },
      {
       "output_type": "stream",
       "stream": "stdout",
       "text": [
        "\n",
        "626\n",
        "627\n",
        "628\n",
        "629\n",
        "630\n",
        "631"
       ]
      },
      {
       "output_type": "stream",
       "stream": "stdout",
       "text": [
        "\n",
        "632\n",
        "633\n",
        "634\n",
        "635\n",
        "636\n",
        "637"
       ]
      },
      {
       "output_type": "stream",
       "stream": "stdout",
       "text": [
        "\n",
        "638\n",
        "639\n",
        "640\n",
        "641\n",
        "642\n",
        "643"
       ]
      },
      {
       "output_type": "stream",
       "stream": "stdout",
       "text": [
        "\n",
        "644\n",
        "645\n",
        "646\n",
        "647\n",
        "648\n",
        "649"
       ]
      },
      {
       "output_type": "stream",
       "stream": "stdout",
       "text": [
        "\n",
        "650\n",
        "651\n",
        "652\n",
        "653\n",
        "654\n",
        "655"
       ]
      },
      {
       "output_type": "stream",
       "stream": "stdout",
       "text": [
        "\n",
        "656\n",
        "657\n",
        "658\n",
        "659\n",
        "660"
       ]
      },
      {
       "output_type": "stream",
       "stream": "stdout",
       "text": [
        "\n",
        "661\n",
        "662\n",
        "663\n",
        "664\n",
        "665"
       ]
      },
      {
       "output_type": "stream",
       "stream": "stdout",
       "text": [
        "\n",
        "666\n",
        "667\n",
        "668\n",
        "669\n",
        "670"
       ]
      },
      {
       "output_type": "stream",
       "stream": "stdout",
       "text": [
        "\n",
        "671\n",
        "672\n",
        "673\n",
        "674\n",
        "675"
       ]
      },
      {
       "output_type": "stream",
       "stream": "stdout",
       "text": [
        "\n",
        "676\n",
        "677\n",
        "678\n",
        "679\n",
        "680\n",
        "681"
       ]
      },
      {
       "output_type": "stream",
       "stream": "stdout",
       "text": [
        "\n",
        "682\n",
        "683\n",
        "684\n",
        "685\n",
        "686\n",
        "687"
       ]
      },
      {
       "output_type": "stream",
       "stream": "stdout",
       "text": [
        "\n",
        "688\n",
        "689\n",
        "690\n",
        "691\n",
        "692\n",
        "693"
       ]
      },
      {
       "output_type": "stream",
       "stream": "stdout",
       "text": [
        "\n",
        "694\n",
        "695\n",
        "696\n",
        "697\n",
        "698\n",
        "699"
       ]
      },
      {
       "output_type": "stream",
       "stream": "stdout",
       "text": [
        "\n",
        "700\n",
        "701\n",
        "702\n",
        "703\n",
        "704"
       ]
      },
      {
       "output_type": "stream",
       "stream": "stdout",
       "text": [
        "\n",
        "705\n",
        "706\n",
        "707\n",
        "708\n",
        "709\n",
        "710"
       ]
      },
      {
       "output_type": "stream",
       "stream": "stdout",
       "text": [
        "\n",
        "711\n",
        "712\n",
        "713\n",
        "714\n",
        "715\n",
        "716"
       ]
      },
      {
       "output_type": "stream",
       "stream": "stdout",
       "text": [
        "\n",
        "717\n",
        "718\n",
        "719\n",
        "720\n",
        "721"
       ]
      },
      {
       "output_type": "stream",
       "stream": "stdout",
       "text": [
        "\n",
        "722\n",
        "723\n",
        "724\n",
        "725\n",
        "726\n",
        "727"
       ]
      },
      {
       "output_type": "stream",
       "stream": "stdout",
       "text": [
        "\n",
        "728\n",
        "729\n",
        "730\n",
        "731\n",
        "732\n",
        "733"
       ]
      },
      {
       "output_type": "stream",
       "stream": "stdout",
       "text": [
        "\n",
        "734\n",
        "735\n",
        "736\n",
        "737\n",
        "738\n",
        "739"
       ]
      },
      {
       "output_type": "stream",
       "stream": "stdout",
       "text": [
        "\n",
        "740\n",
        "741\n",
        "742\n",
        "743\n",
        "744\n",
        "745"
       ]
      },
      {
       "output_type": "stream",
       "stream": "stdout",
       "text": [
        "\n",
        "746\n",
        "747\n",
        "748\n",
        "749\n",
        "750\n",
        "751"
       ]
      },
      {
       "output_type": "stream",
       "stream": "stdout",
       "text": [
        "\n",
        "752\n",
        "753\n",
        "754\n",
        "755\n",
        "756\n",
        "757"
       ]
      },
      {
       "output_type": "stream",
       "stream": "stdout",
       "text": [
        "\n",
        "758\n",
        "759\n",
        "760\n",
        "761\n",
        "762\n",
        "763"
       ]
      },
      {
       "output_type": "stream",
       "stream": "stdout",
       "text": [
        "\n",
        "764\n",
        "765\n",
        "766\n",
        "767\n",
        "768\n",
        "769"
       ]
      },
      {
       "output_type": "stream",
       "stream": "stdout",
       "text": [
        "\n",
        "770\n",
        "771\n",
        "772\n",
        "773\n",
        "774\n",
        "775"
       ]
      },
      {
       "output_type": "stream",
       "stream": "stdout",
       "text": [
        "\n",
        "776\n",
        "777\n",
        "778\n",
        "779\n",
        "780\n",
        "781"
       ]
      },
      {
       "output_type": "stream",
       "stream": "stdout",
       "text": [
        "\n",
        "782\n",
        "783\n",
        "784\n",
        "785\n",
        "786\n",
        "787"
       ]
      },
      {
       "output_type": "stream",
       "stream": "stdout",
       "text": [
        "\n",
        "788\n",
        "789\n",
        "790\n",
        "791\n",
        "792\n",
        "793"
       ]
      },
      {
       "output_type": "stream",
       "stream": "stdout",
       "text": [
        "\n",
        "794\n",
        "795\n",
        "796\n",
        "797\n",
        "798\n",
        "799"
       ]
      },
      {
       "output_type": "stream",
       "stream": "stdout",
       "text": [
        "\n",
        "800\n",
        "801\n",
        "802\n",
        "803\n",
        "804\n",
        "805"
       ]
      },
      {
       "output_type": "stream",
       "stream": "stdout",
       "text": [
        "\n",
        "806\n",
        "807\n",
        "808\n",
        "809\n",
        "810\n",
        "811"
       ]
      },
      {
       "output_type": "stream",
       "stream": "stdout",
       "text": [
        "\n",
        "812\n",
        "813\n",
        "814\n",
        "815\n",
        "816\n",
        "817"
       ]
      },
      {
       "output_type": "stream",
       "stream": "stdout",
       "text": [
        "\n",
        "818\n",
        "819\n",
        "820\n",
        "821\n",
        "822\n",
        "823"
       ]
      },
      {
       "output_type": "stream",
       "stream": "stdout",
       "text": [
        "\n",
        "824\n",
        "825\n",
        "826\n",
        "827\n",
        "828\n",
        "829"
       ]
      },
      {
       "output_type": "stream",
       "stream": "stdout",
       "text": [
        "\n",
        "830\n",
        "831\n",
        "832\n",
        "833\n",
        "834\n",
        "835"
       ]
      },
      {
       "output_type": "stream",
       "stream": "stdout",
       "text": [
        "\n",
        "836\n",
        "837\n",
        "838\n",
        "839\n",
        "840\n",
        "841"
       ]
      },
      {
       "output_type": "stream",
       "stream": "stdout",
       "text": [
        "\n",
        "842\n",
        "843\n",
        "844\n",
        "845\n",
        "846\n",
        "847\n",
        "848"
       ]
      },
      {
       "output_type": "stream",
       "stream": "stdout",
       "text": [
        "\n",
        "849\n",
        "850\n",
        "851\n",
        "852\n",
        "853\n",
        "854\n",
        "855"
       ]
      },
      {
       "output_type": "stream",
       "stream": "stdout",
       "text": [
        "\n",
        "856\n",
        "857\n",
        "858\n",
        "859\n",
        "860\n",
        "861\n",
        "862"
       ]
      },
      {
       "output_type": "stream",
       "stream": "stdout",
       "text": [
        "\n",
        "863\n",
        "864\n",
        "865\n",
        "866\n",
        "867\n",
        "868\n",
        "869"
       ]
      },
      {
       "output_type": "stream",
       "stream": "stdout",
       "text": [
        "\n",
        "870\n",
        "871\n",
        "872\n",
        "873\n",
        "874\n",
        "875\n",
        "876"
       ]
      },
      {
       "output_type": "stream",
       "stream": "stdout",
       "text": [
        "\n",
        "877\n",
        "878\n",
        "879\n",
        "880\n",
        "881\n",
        "882\n",
        "883"
       ]
      },
      {
       "output_type": "stream",
       "stream": "stdout",
       "text": [
        "\n",
        "884\n",
        "885\n",
        "886\n",
        "887\n",
        "888\n",
        "889\n",
        "890"
       ]
      },
      {
       "output_type": "stream",
       "stream": "stdout",
       "text": [
        "\n",
        "891\n",
        "892\n",
        "893\n",
        "894\n",
        "895\n",
        "896\n",
        "897"
       ]
      },
      {
       "output_type": "stream",
       "stream": "stdout",
       "text": [
        "\n",
        "898\n",
        "899\n",
        "900\n",
        "901\n",
        "902\n",
        "903\n",
        "904"
       ]
      },
      {
       "output_type": "stream",
       "stream": "stdout",
       "text": [
        "\n",
        "905\n",
        "906\n",
        "907\n",
        "908\n",
        "909\n",
        "910\n",
        "911"
       ]
      },
      {
       "output_type": "stream",
       "stream": "stdout",
       "text": [
        "\n",
        "912\n",
        "913\n",
        "914\n",
        "915\n",
        "916\n",
        "917\n",
        "918"
       ]
      },
      {
       "output_type": "stream",
       "stream": "stdout",
       "text": [
        "\n",
        "919\n",
        "920\n",
        "921\n",
        "922\n",
        "923\n",
        "924\n",
        "925"
       ]
      },
      {
       "output_type": "stream",
       "stream": "stdout",
       "text": [
        "\n",
        "926\n",
        "927\n",
        "928\n",
        "929\n",
        "930\n",
        "931\n",
        "932"
       ]
      },
      {
       "output_type": "stream",
       "stream": "stdout",
       "text": [
        "\n",
        "933\n",
        "934\n",
        "935\n",
        "936\n",
        "937\n",
        "938\n",
        "939"
       ]
      },
      {
       "output_type": "stream",
       "stream": "stdout",
       "text": [
        "\n",
        "940\n",
        "941\n",
        "942\n",
        "943\n",
        "944\n",
        "945\n",
        "946"
       ]
      },
      {
       "output_type": "stream",
       "stream": "stdout",
       "text": [
        "\n",
        "947\n",
        "948\n",
        "949\n",
        "950\n",
        "951\n",
        "952\n",
        "953"
       ]
      },
      {
       "output_type": "stream",
       "stream": "stdout",
       "text": [
        "\n",
        "954\n",
        "955\n",
        "956\n",
        "957\n",
        "958\n",
        "959\n",
        "960"
       ]
      },
      {
       "output_type": "stream",
       "stream": "stdout",
       "text": [
        "\n",
        "961\n",
        "962\n",
        "963\n",
        "964\n",
        "965\n",
        "966\n",
        "967"
       ]
      },
      {
       "output_type": "stream",
       "stream": "stdout",
       "text": [
        "\n",
        "968\n",
        "969\n",
        "970\n",
        "971\n",
        "972\n",
        "973\n",
        "974"
       ]
      },
      {
       "output_type": "stream",
       "stream": "stdout",
       "text": [
        "\n",
        "975\n",
        "976\n",
        "977\n",
        "978\n",
        "979\n",
        "980\n",
        "981"
       ]
      },
      {
       "output_type": "stream",
       "stream": "stdout",
       "text": [
        "\n",
        "982\n",
        "983\n",
        "984\n",
        "985\n",
        "986\n",
        "987\n",
        "988\n",
        "989"
       ]
      },
      {
       "output_type": "stream",
       "stream": "stdout",
       "text": [
        "\n",
        "990\n",
        "991\n",
        "992\n",
        "993\n",
        "994\n",
        "995\n",
        "996\n",
        "997"
       ]
      },
      {
       "output_type": "stream",
       "stream": "stdout",
       "text": [
        "\n",
        "998\n",
        "999\n",
        "1000\n",
        "1001\n",
        "1002\n",
        "1003\n",
        "1004\n",
        "1005"
       ]
      },
      {
       "output_type": "stream",
       "stream": "stdout",
       "text": [
        "\n",
        "1006\n",
        "1007\n",
        "1008\n",
        "1009\n",
        "1010\n",
        "1011\n",
        "1012\n",
        "1013"
       ]
      },
      {
       "output_type": "stream",
       "stream": "stdout",
       "text": [
        "\n",
        "1014\n",
        "1015\n",
        "1016\n",
        "1017\n",
        "1018\n",
        "1019\n",
        "1020\n",
        "1021"
       ]
      },
      {
       "output_type": "stream",
       "stream": "stdout",
       "text": [
        "\n",
        "1022\n",
        "1023\n",
        "1024\n",
        "1025\n",
        "1026\n",
        "1027\n",
        "1028\n",
        "1029"
       ]
      },
      {
       "output_type": "stream",
       "stream": "stdout",
       "text": [
        "\n",
        "1030\n",
        "1031\n",
        "1032\n",
        "1033\n",
        "1034\n",
        "1035\n",
        "1036\n",
        "1037"
       ]
      },
      {
       "output_type": "stream",
       "stream": "stdout",
       "text": [
        "\n",
        "1038\n",
        "1039\n",
        "1040\n",
        "1041\n",
        "1042\n",
        "1043\n",
        "1044\n",
        "1045"
       ]
      },
      {
       "output_type": "stream",
       "stream": "stdout",
       "text": [
        "\n",
        "1046\n",
        "1047\n",
        "1048\n",
        "1049\n",
        "1050\n",
        "1051\n",
        "1052\n",
        "1053"
       ]
      },
      {
       "output_type": "stream",
       "stream": "stdout",
       "text": [
        "\n",
        "1054\n",
        "1055\n",
        "1056\n",
        "1057\n",
        "1058\n",
        "1059\n",
        "1060\n",
        "1061"
       ]
      },
      {
       "output_type": "stream",
       "stream": "stdout",
       "text": [
        "\n",
        "1062\n",
        "1063\n",
        "1064\n",
        "1065\n",
        "1066\n",
        "1067\n",
        "1068\n",
        "1069"
       ]
      },
      {
       "output_type": "stream",
       "stream": "stdout",
       "text": [
        "\n",
        "1070\n",
        "1071\n",
        "1072\n",
        "1073\n",
        "1074\n",
        "1075\n",
        "1076\n",
        "1077"
       ]
      },
      {
       "output_type": "stream",
       "stream": "stdout",
       "text": [
        "\n",
        "1078\n",
        "1079\n",
        "1080\n",
        "1081\n",
        "1082\n",
        "1083\n",
        "1084\n",
        "1085"
       ]
      },
      {
       "output_type": "stream",
       "stream": "stdout",
       "text": [
        "\n",
        "1086\n",
        "1087\n",
        "1088\n",
        "1089\n",
        "1090\n",
        "1091\n",
        "1092\n",
        "1093"
       ]
      },
      {
       "output_type": "stream",
       "stream": "stdout",
       "text": [
        "\n",
        "1094\n",
        "1095\n",
        "1096\n",
        "1097\n",
        "1098\n",
        "1099\n",
        "1100\n",
        "1101"
       ]
      },
      {
       "output_type": "stream",
       "stream": "stdout",
       "text": [
        "\n",
        "1102\n",
        "1103\n",
        "1104\n",
        "1105\n",
        "1106\n",
        "1107\n",
        "1108\n",
        "1109"
       ]
      },
      {
       "output_type": "stream",
       "stream": "stdout",
       "text": [
        "\n",
        "1110\n",
        "1111\n",
        "1112\n",
        "1113\n",
        "1114\n",
        "1115\n",
        "1116\n",
        "1117"
       ]
      },
      {
       "output_type": "stream",
       "stream": "stdout",
       "text": [
        "\n",
        "1118\n",
        "1119\n",
        "1120\n",
        "1121\n",
        "1122\n",
        "1123\n",
        "1124\n",
        "1125"
       ]
      },
      {
       "output_type": "stream",
       "stream": "stdout",
       "text": [
        "\n",
        "1126\n",
        "1127\n",
        "1128\n",
        "1129\n",
        "1130\n",
        "1131\n",
        "1132\n",
        "1133"
       ]
      },
      {
       "output_type": "stream",
       "stream": "stdout",
       "text": [
        "\n",
        "1134\n",
        "1135\n",
        "1136\n",
        "1137\n",
        "1138\n",
        "1139\n",
        "1140\n",
        "1141"
       ]
      },
      {
       "output_type": "stream",
       "stream": "stdout",
       "text": [
        "\n",
        "1142\n",
        "1143\n",
        "1144\n",
        "1145\n",
        "1146\n",
        "1147\n",
        "1148\n",
        "1149"
       ]
      },
      {
       "output_type": "stream",
       "stream": "stdout",
       "text": [
        "\n",
        "1150\n",
        "1151\n",
        "1152\n",
        "1153\n",
        "1154\n",
        "1155\n",
        "1156\n",
        "1157\n",
        "1158"
       ]
      },
      {
       "output_type": "stream",
       "stream": "stdout",
       "text": [
        "\n",
        "1159\n",
        "1160\n",
        "1161\n",
        "1162\n",
        "1163\n",
        "1164\n",
        "1165\n",
        "1166\n",
        "1167"
       ]
      },
      {
       "output_type": "stream",
       "stream": "stdout",
       "text": [
        "\n",
        "1168\n",
        "1169\n",
        "1170\n",
        "1171\n",
        "1172\n",
        "1173\n",
        "1174\n",
        "1175\n",
        "1176"
       ]
      },
      {
       "output_type": "stream",
       "stream": "stdout",
       "text": [
        "\n",
        "1177\n",
        "1178\n",
        "1179\n",
        "1180\n",
        "1181\n",
        "1182\n",
        "1183\n",
        "1184\n",
        "1185"
       ]
      },
      {
       "output_type": "stream",
       "stream": "stdout",
       "text": [
        "\n",
        "1186\n",
        "1187\n",
        "1188\n",
        "1189\n",
        "1190\n",
        "1191\n",
        "1192\n",
        "1193\n",
        "1194"
       ]
      },
      {
       "output_type": "stream",
       "stream": "stdout",
       "text": [
        "\n",
        "1195\n",
        "1196\n",
        "1197\n",
        "1198\n",
        "1199\n",
        "1200\n",
        "1201\n",
        "1202\n",
        "1203"
       ]
      },
      {
       "output_type": "stream",
       "stream": "stdout",
       "text": [
        "\n",
        "1204\n",
        "1205\n",
        "1206\n",
        "1207\n",
        "1208\n",
        "1209\n",
        "1210\n",
        "1211\n",
        "1212"
       ]
      },
      {
       "output_type": "stream",
       "stream": "stdout",
       "text": [
        "\n",
        "1213\n",
        "1214\n",
        "1215\n",
        "1216\n",
        "1217\n",
        "1218\n",
        "1219\n",
        "1220\n",
        "1221"
       ]
      },
      {
       "output_type": "stream",
       "stream": "stdout",
       "text": [
        "\n",
        "1222\n",
        "1223\n",
        "1224\n",
        "1225\n",
        "1226\n",
        "1227\n",
        "1228\n",
        "1229\n",
        "1230"
       ]
      },
      {
       "output_type": "stream",
       "stream": "stdout",
       "text": [
        "\n",
        "1231\n",
        "1232\n",
        "1233\n",
        "1234\n",
        "1235\n",
        "1236\n",
        "1237\n",
        "1238\n",
        "1239"
       ]
      },
      {
       "output_type": "stream",
       "stream": "stdout",
       "text": [
        "\n",
        "1240\n",
        "1241\n",
        "1242\n",
        "1243\n",
        "1244\n",
        "1245\n",
        "1246\n",
        "1247\n",
        "1248\n",
        "1249"
       ]
      },
      {
       "output_type": "stream",
       "stream": "stdout",
       "text": [
        "\n",
        "1250\n",
        "1251\n",
        "1252\n",
        "1253\n",
        "1254\n",
        "1255\n",
        "1256\n",
        "1257\n",
        "1258\n",
        "1259"
       ]
      },
      {
       "output_type": "stream",
       "stream": "stdout",
       "text": [
        "\n",
        "1260\n",
        "1261\n",
        "1262\n",
        "1263\n",
        "1264\n",
        "1265\n",
        "1266\n",
        "1267\n",
        "1268\n",
        "1269"
       ]
      },
      {
       "output_type": "stream",
       "stream": "stdout",
       "text": [
        "\n",
        "1270\n",
        "1271\n",
        "1272\n",
        "1273\n",
        "1274\n",
        "1275\n",
        "1276\n",
        "1277\n",
        "1278\n",
        "1279"
       ]
      },
      {
       "output_type": "stream",
       "stream": "stdout",
       "text": [
        "\n",
        "1280\n",
        "1281\n",
        "1282\n",
        "1283\n",
        "1284\n",
        "1285\n",
        "1286\n",
        "1287\n",
        "1288\n",
        "1289"
       ]
      },
      {
       "output_type": "stream",
       "stream": "stdout",
       "text": [
        "\n",
        "1290\n",
        "1291\n",
        "1292\n",
        "1293\n",
        "1294\n",
        "1295\n",
        "1296\n",
        "1297\n",
        "1298\n",
        "1299"
       ]
      },
      {
       "output_type": "stream",
       "stream": "stdout",
       "text": [
        "\n",
        "1300\n",
        "1301\n",
        "1302\n",
        "1303\n",
        "1304\n",
        "1305\n",
        "1306\n",
        "1307\n",
        "1308\n",
        "1309"
       ]
      },
      {
       "output_type": "stream",
       "stream": "stdout",
       "text": [
        "\n",
        "1310\n",
        "1311\n",
        "1312\n",
        "1313\n",
        "1314\n",
        "1315\n",
        "1316\n",
        "1317\n",
        "1318\n",
        "1319\n",
        "1320"
       ]
      },
      {
       "output_type": "stream",
       "stream": "stdout",
       "text": [
        "\n",
        "1321\n",
        "1322\n",
        "1323\n",
        "1324\n",
        "1325\n",
        "1326\n",
        "1327\n",
        "1328\n",
        "1329\n",
        "1330\n",
        "1331"
       ]
      },
      {
       "output_type": "stream",
       "stream": "stdout",
       "text": [
        "\n",
        "1332\n",
        "1333\n",
        "1334\n",
        "1335\n",
        "1336\n",
        "1337\n",
        "1338\n",
        "1339\n",
        "1340\n",
        "1341"
       ]
      },
      {
       "output_type": "stream",
       "stream": "stdout",
       "text": [
        "\n",
        "1342\n",
        "1343\n",
        "1344\n",
        "1345\n",
        "1346\n",
        "1347\n",
        "1348\n",
        "1349\n",
        "1350\n",
        "1351\n",
        "1352"
       ]
      },
      {
       "output_type": "stream",
       "stream": "stdout",
       "text": [
        "\n",
        "1353\n",
        "1354\n",
        "1355\n",
        "1356\n",
        "1357\n",
        "1358\n",
        "1359\n",
        "1360\n",
        "1361\n",
        "1362"
       ]
      },
      {
       "output_type": "stream",
       "stream": "stdout",
       "text": [
        "\n",
        "1363\n",
        "1364\n",
        "1365\n",
        "1366\n",
        "1367\n",
        "1368\n",
        "1369\n",
        "1370\n",
        "1371\n",
        "1372\n",
        "1373"
       ]
      },
      {
       "output_type": "stream",
       "stream": "stdout",
       "text": [
        "\n",
        "1374\n",
        "1375\n",
        "1376\n",
        "1377\n",
        "1378\n",
        "1379\n",
        "1380\n",
        "1381\n",
        "1382\n",
        "1383\n",
        "1384"
       ]
      },
      {
       "output_type": "stream",
       "stream": "stdout",
       "text": [
        "\n",
        "1385\n",
        "1386\n",
        "1387\n",
        "1388\n",
        "1389\n",
        "1390\n",
        "1391\n",
        "1392\n",
        "1393\n",
        "1394\n",
        "1395"
       ]
      },
      {
       "output_type": "stream",
       "stream": "stdout",
       "text": [
        "\n",
        "1396\n",
        "1397\n",
        "1398\n",
        "1399\n",
        "1400\n",
        "1401\n",
        "1402\n",
        "1403\n",
        "1404\n",
        "1405\n",
        "1406\n",
        "1407"
       ]
      },
      {
       "output_type": "stream",
       "stream": "stdout",
       "text": [
        "\n",
        "1408\n",
        "1409\n",
        "1410\n",
        "1411\n",
        "1412\n",
        "1413\n",
        "1414\n",
        "1415\n",
        "1416\n",
        "1417\n",
        "1418\n",
        "1419"
       ]
      },
      {
       "output_type": "stream",
       "stream": "stdout",
       "text": [
        "\n",
        "1420\n",
        "1421\n",
        "1422\n",
        "1423\n",
        "1424\n",
        "1425\n",
        "1426\n",
        "1427\n",
        "1428\n",
        "1429\n",
        "1430\n",
        "1431"
       ]
      },
      {
       "output_type": "stream",
       "stream": "stdout",
       "text": [
        "\n",
        "1432\n",
        "1433\n",
        "1434\n",
        "1435\n",
        "1436\n",
        "1437\n",
        "1438\n",
        "1439\n",
        "1440\n",
        "1441\n",
        "1442"
       ]
      },
      {
       "output_type": "stream",
       "stream": "stdout",
       "text": [
        "\n",
        "1443\n",
        "1444\n",
        "1445\n",
        "1446\n",
        "1447\n",
        "1448\n",
        "1449\n",
        "1450\n",
        "1451\n",
        "1452"
       ]
      },
      {
       "output_type": "stream",
       "stream": "stdout",
       "text": [
        "\n",
        "1453\n",
        "1454\n",
        "1455\n",
        "1456\n",
        "1457\n",
        "1458\n",
        "1459\n",
        "1460\n",
        "1461\n",
        "1462\n",
        "1463"
       ]
      },
      {
       "output_type": "stream",
       "stream": "stdout",
       "text": [
        "\n",
        "1464\n",
        "1465\n",
        "1466\n",
        "1467\n",
        "1468\n",
        "1469\n",
        "1470\n",
        "1471\n",
        "1472\n",
        "1473\n",
        "1474"
       ]
      },
      {
       "output_type": "stream",
       "stream": "stdout",
       "text": [
        "\n",
        "1475\n",
        "1476\n",
        "1477\n",
        "1478\n",
        "1479\n",
        "1480\n",
        "1481\n",
        "1482\n",
        "1483\n",
        "1484\n",
        "1485\n",
        "1486\n",
        "1487"
       ]
      },
      {
       "output_type": "stream",
       "stream": "stdout",
       "text": [
        "\n",
        "1488\n",
        "1489\n",
        "1490\n",
        "1491\n",
        "1492\n",
        "1493\n",
        "1494\n",
        "1495\n",
        "1496\n",
        "1497\n",
        "1498\n",
        "1499\n",
        "1500"
       ]
      },
      {
       "output_type": "stream",
       "stream": "stdout",
       "text": [
        "\n",
        "1501\n",
        "1502\n",
        "1503\n",
        "1504\n",
        "1505\n",
        "1506\n",
        "1507\n",
        "1508\n",
        "1509\n",
        "1510\n",
        "1511\n",
        "1512\n",
        "1513"
       ]
      },
      {
       "output_type": "stream",
       "stream": "stdout",
       "text": [
        "\n",
        "1514\n",
        "1515\n",
        "1516\n",
        "1517\n",
        "1518\n",
        "1519\n",
        "1520\n",
        "1521\n",
        "1522\n",
        "1523\n",
        "1524\n",
        "1525\n",
        "1526\n",
        "1527"
       ]
      },
      {
       "output_type": "stream",
       "stream": "stdout",
       "text": [
        "\n",
        "1528\n",
        "1529\n",
        "1530\n",
        "1531\n",
        "1532\n",
        "1533\n",
        "1534\n",
        "1535\n",
        "1536\n",
        "1537\n",
        "1538\n",
        "1539\n",
        "1540\n",
        "1541"
       ]
      },
      {
       "output_type": "stream",
       "stream": "stdout",
       "text": [
        "\n",
        "1542\n",
        "1543\n",
        "1544\n",
        "1545\n",
        "1546\n",
        "1547\n",
        "1548\n",
        "1549\n",
        "1550\n",
        "1551\n",
        "1552\n",
        "1553\n",
        "1554"
       ]
      },
      {
       "output_type": "stream",
       "stream": "stdout",
       "text": [
        "\n",
        "1555\n",
        "1556\n",
        "1557\n",
        "1558\n",
        "1559\n",
        "1560\n",
        "1561\n",
        "1562\n",
        "1563\n",
        "1564\n",
        "1565\n",
        "1566\n",
        "1567"
       ]
      },
      {
       "output_type": "stream",
       "stream": "stdout",
       "text": [
        "\n",
        "1568\n",
        "1569\n",
        "1570\n",
        "1571\n",
        "1572\n",
        "1573\n",
        "1574\n",
        "1575\n",
        "1576\n",
        "1577\n",
        "1578\n",
        "1579\n",
        "1580\n",
        "1581"
       ]
      },
      {
       "output_type": "stream",
       "stream": "stdout",
       "text": [
        "\n",
        "1582\n",
        "1583\n",
        "1584\n",
        "1585\n",
        "1586\n",
        "1587\n",
        "1588\n",
        "1589\n",
        "1590\n",
        "1591\n",
        "1592\n",
        "1593\n",
        "1594\n",
        "1595"
       ]
      },
      {
       "output_type": "stream",
       "stream": "stdout",
       "text": [
        "\n",
        "1596\n",
        "1597\n",
        "1598\n",
        "1599\n",
        "1600\n",
        "1601\n",
        "1602\n",
        "1603\n",
        "1604\n",
        "1605\n",
        "1606\n",
        "1607\n",
        "1608\n",
        "1609"
       ]
      },
      {
       "output_type": "stream",
       "stream": "stdout",
       "text": [
        "\n",
        "1610\n",
        "1611\n",
        "1612\n",
        "1613\n",
        "1614\n",
        "1615\n",
        "1616\n",
        "1617\n",
        "1618\n",
        "1619\n",
        "1620\n",
        "1621\n",
        "1622\n",
        "1623\n",
        "1624"
       ]
      },
      {
       "output_type": "stream",
       "stream": "stdout",
       "text": [
        "\n",
        "1625\n",
        "1626\n",
        "1627\n",
        "1628\n",
        "1629\n",
        "1630\n",
        "1631\n",
        "1632\n",
        "1633\n",
        "1634\n",
        "1635\n",
        "1636\n",
        "1637\n",
        "1638\n",
        "1639"
       ]
      },
      {
       "output_type": "stream",
       "stream": "stdout",
       "text": [
        "\n",
        "1640\n",
        "1641\n",
        "1642\n",
        "1643\n",
        "1644\n",
        "1645\n",
        "1646\n",
        "1647\n",
        "1648\n",
        "1649\n",
        "1650\n",
        "1651\n",
        "1652\n",
        "1653\n",
        "1654\n",
        "1655"
       ]
      },
      {
       "output_type": "stream",
       "stream": "stdout",
       "text": [
        "\n",
        "1656\n",
        "1657\n",
        "1658\n",
        "1659\n",
        "1660\n",
        "1661\n",
        "1662\n",
        "1663\n",
        "1664\n",
        "1665\n",
        "1666\n",
        "1667\n",
        "1668\n",
        "1669\n",
        "1670\n",
        "1671"
       ]
      },
      {
       "output_type": "stream",
       "stream": "stdout",
       "text": [
        "\n",
        "1672\n",
        "1673\n",
        "1674\n",
        "1675\n",
        "1676\n",
        "1677\n",
        "1678\n",
        "1679\n",
        "1680\n",
        "1681\n",
        "1682\n",
        "1683\n",
        "1684\n",
        "1685\n",
        "1686\n",
        "1687\n",
        "1688"
       ]
      },
      {
       "output_type": "stream",
       "stream": "stdout",
       "text": [
        "\n",
        "1689\n",
        "1690\n",
        "1691\n",
        "1692\n",
        "1693\n",
        "1694\n",
        "1695\n",
        "1696\n",
        "1697\n",
        "1698\n",
        "1699\n",
        "1700\n",
        "1701\n",
        "1702\n",
        "1703\n",
        "1704\n",
        "1705\n",
        "1706"
       ]
      },
      {
       "output_type": "stream",
       "stream": "stdout",
       "text": [
        "\n",
        "1707\n",
        "1708\n",
        "1709\n",
        "1710\n",
        "1711\n",
        "1712\n",
        "1713\n",
        "1714\n",
        "1715\n",
        "1716\n",
        "1717\n",
        "1718\n",
        "1719\n",
        "1720\n",
        "1721\n",
        "1722\n",
        "1723\n",
        "1724\n",
        "1725"
       ]
      },
      {
       "output_type": "stream",
       "stream": "stdout",
       "text": [
        "\n",
        "1726\n",
        "1727\n",
        "1728\n",
        "1729\n",
        "1730\n",
        "1731\n",
        "1732\n",
        "1733\n",
        "1734\n",
        "1735\n",
        "1736\n",
        "1737\n",
        "1738\n",
        "1739\n",
        "1740\n",
        "1741\n",
        "1742\n",
        "1743\n",
        "1744"
       ]
      },
      {
       "output_type": "stream",
       "stream": "stdout",
       "text": [
        "\n",
        "1745\n",
        "1746\n",
        "1747\n",
        "1748\n",
        "1749\n",
        "1750\n",
        "1751\n",
        "1752\n",
        "1753\n",
        "1754\n",
        "1755\n",
        "1756\n",
        "1757\n",
        "1758\n",
        "1759\n",
        "1760\n",
        "1761\n",
        "1762\n",
        "1763"
       ]
      },
      {
       "output_type": "stream",
       "stream": "stdout",
       "text": [
        "\n",
        "1764\n",
        "1765\n",
        "1766\n",
        "1767\n",
        "1768\n",
        "1769\n",
        "1770\n",
        "1771\n",
        "1772\n",
        "1773\n",
        "1774\n",
        "1775\n",
        "1776\n",
        "1777\n",
        "1778\n",
        "1779\n",
        "1780\n",
        "1781\n",
        "1782\n",
        "1783\n",
        "1784"
       ]
      },
      {
       "output_type": "stream",
       "stream": "stdout",
       "text": [
        "\n",
        "1785\n",
        "1786\n",
        "1787\n",
        "1788\n",
        "1789\n",
        "1790\n",
        "1791\n",
        "1792\n",
        "1793\n",
        "1794\n",
        "1795\n",
        "1796\n",
        "1797\n",
        "1798\n",
        "1799\n",
        "1800\n",
        "1801\n",
        "1802\n",
        "1803\n",
        "1804\n",
        "1805\n",
        "1806\n",
        "1807"
       ]
      },
      {
       "output_type": "stream",
       "stream": "stdout",
       "text": [
        "\n",
        "1808\n",
        "1809\n",
        "1810\n",
        "1811\n",
        "1812\n",
        "1813\n",
        "1814\n",
        "1815\n",
        "1816\n",
        "1817\n",
        "1818\n",
        "1819\n",
        "1820\n",
        "1821\n",
        "1822\n",
        "1823\n",
        "1824\n",
        "1825\n",
        "1826\n",
        "1827\n",
        "1828\n",
        "1829\n",
        "1830\n",
        "1831"
       ]
      },
      {
       "output_type": "stream",
       "stream": "stdout",
       "text": [
        "\n",
        "1832\n",
        "1833\n",
        "1834\n",
        "1835\n",
        "1836\n",
        "1837\n",
        "1838\n",
        "1839\n",
        "1840\n",
        "1841\n",
        "1842\n",
        "1843\n",
        "1844\n",
        "1845\n",
        "1846\n",
        "1847\n",
        "1848\n",
        "1849\n",
        "1850\n",
        "1851\n",
        "1852\n",
        "1853\n",
        "1854\n",
        "1855\n",
        "1856\n",
        "1857\n",
        "1858"
       ]
      },
      {
       "output_type": "stream",
       "stream": "stdout",
       "text": [
        "\n",
        "1859\n",
        "1860\n",
        "1861\n",
        "1862\n",
        "1863\n",
        "1864\n",
        "1865\n",
        "1866\n",
        "1867\n",
        "1868\n",
        "1869\n",
        "1870\n",
        "1871\n",
        "1872\n",
        "1873\n",
        "1874\n",
        "1875\n",
        "1876\n",
        "1877\n",
        "1878\n",
        "1879\n",
        "1880\n",
        "1881\n",
        "1882\n",
        "1883\n",
        "1884\n",
        "1885\n",
        "1886\n",
        "1887"
       ]
      },
      {
       "output_type": "stream",
       "stream": "stdout",
       "text": [
        "\n",
        "1888\n",
        "1889\n",
        "1890\n",
        "1891\n",
        "1892\n",
        "1893\n",
        "1894\n",
        "1895\n",
        "1896\n",
        "1897\n",
        "1898\n",
        "1899\n",
        "1900\n",
        "1901\n",
        "1902\n",
        "1903\n",
        "1904\n",
        "1905\n",
        "1906\n",
        "1907\n",
        "1908\n",
        "1909\n",
        "1910\n",
        "1911\n",
        "1912\n",
        "1913\n",
        "1914\n",
        "1915\n",
        "1916\n",
        "1917\n",
        "1918\n",
        "1919\n",
        "1920\n",
        "1921\n",
        "1922\n",
        "1923\n",
        "1924\n",
        "1925\n",
        "1926"
       ]
      },
      {
       "output_type": "stream",
       "stream": "stdout",
       "text": [
        "\n",
        "1927\n",
        "1928\n",
        "1929\n",
        "1930\n",
        "1931\n",
        "1932\n",
        "1933\n",
        "1934\n",
        "1935\n",
        "1936\n",
        "1937\n",
        "1938\n",
        "1939\n",
        "1940\n",
        "1941\n",
        "1942\n",
        "1943\n",
        "1944\n",
        "1945\n",
        "1946\n",
        "1947\n",
        "1948\n",
        "1949\n",
        "1950\n",
        "1951\n",
        "1952\n",
        "1953\n",
        "1954\n",
        "1955\n",
        "1956\n",
        "1957\n",
        "1958\n",
        "1959\n",
        "1960\n",
        "1961\n",
        "1962\n",
        "1963\n",
        "1964\n",
        "1965\n",
        "1966\n",
        "1967\n",
        "1968\n",
        "1969\n",
        "1970\n",
        "1971\n",
        "1972\n",
        "1973\n",
        "1974\n",
        "1975\n",
        "1976\n",
        "1977"
       ]
      },
      {
       "output_type": "stream",
       "stream": "stdout",
       "text": [
        "\n",
        "1978\n",
        "1979\n",
        "1980\n",
        "1981\n",
        "1982\n",
        "1983\n",
        "1984\n",
        "1985\n",
        "1986\n",
        "1987\n",
        "1988\n",
        "1989\n",
        "1990\n",
        "1991\n",
        "1992\n",
        "1993\n",
        "1994\n",
        "1995\n",
        "1996\n",
        "1997\n",
        "1998\n",
        "1999\n",
        "2000\n",
        "2001\n",
        "2002\n",
        "2003\n",
        "2004\n",
        "2005\n",
        "2006\n",
        "2007\n",
        "2008\n",
        "2009\n",
        "2010\n",
        "2011\n",
        "2012\n",
        "2013\n",
        "2014\n",
        "2015\n",
        "2016\n",
        "2017\n",
        "2018\n",
        "2019\n",
        "2020\n",
        "2021\n",
        "2022\n",
        "2023\n",
        "2024\n",
        "2025\n",
        "2026\n",
        "2027\n",
        "2028\n",
        "2029\n",
        "2030\n",
        "2031\n",
        "2032\n",
        "2033\n",
        "2034\n",
        "2035\n",
        "2036\n",
        "2037\n",
        "2038\n",
        "2039\n",
        "2040\n",
        "2041\n",
        "2042\n",
        "2043\n",
        "2044\n",
        "2045\n",
        "2046\n",
        "2047\n",
        "2048\n",
        "2049\n",
        "2050\n",
        "2051\n",
        "2052\n",
        "2053\n",
        "2054\n",
        "2055\n",
        "2056\n",
        "2057\n",
        "2058\n",
        "2059\n",
        "2060\n",
        "2061\n",
        "2062\n",
        "2063\n",
        "2064\n",
        "2065\n",
        "2066\n",
        "2067\n",
        "2068\n",
        "2069\n",
        "2070\n",
        "2071\n",
        "2072\n",
        "2073\n",
        "2074\n",
        "2075\n",
        "2076\n",
        "2077\n",
        "2078\n",
        "2079\n",
        "2080\n",
        "2081\n",
        "2082\n",
        "2083\n",
        "2084\n",
        "2085\n",
        "2086\n",
        "2087\n",
        "2088\n",
        "2089\n",
        "2090\n",
        "2091\n",
        "2092\n",
        "2093\n",
        "2094\n",
        "2095\n",
        "2096\n",
        "2097\n",
        "2098\n",
        "2099\n"
       ]
      }
     ],
     "prompt_number": 25
    },
    {
     "cell_type": "code",
     "collapsed": false,
     "input": [
      "net.feedforward(abs(np.random.randn(40, 10, 10)))"
     ],
     "language": "python",
     "metadata": {},
     "outputs": [
      {
       "output_type": "stream",
       "stream": "stdout",
       "text": [
        "2\n",
        "3\n",
        "4\n",
        "5"
       ]
      },
      {
       "output_type": "stream",
       "stream": "stdout",
       "text": [
        "\n",
        "6\n",
        "7"
       ]
      },
      {
       "output_type": "stream",
       "stream": "stdout",
       "text": [
        "\n",
        "8\n",
        "9"
       ]
      },
      {
       "output_type": "stream",
       "stream": "stdout",
       "text": [
        "\n",
        "10\n",
        "11"
       ]
      },
      {
       "output_type": "stream",
       "stream": "stdout",
       "text": [
        "\n",
        "12\n",
        "13"
       ]
      },
      {
       "output_type": "stream",
       "stream": "stdout",
       "text": [
        "\n",
        "14\n",
        "15"
       ]
      },
      {
       "output_type": "stream",
       "stream": "stdout",
       "text": [
        "\n",
        "16\n",
        "17"
       ]
      },
      {
       "output_type": "stream",
       "stream": "stdout",
       "text": [
        "\n",
        "18\n",
        "19"
       ]
      },
      {
       "output_type": "stream",
       "stream": "stdout",
       "text": [
        "\n",
        "20\n",
        "21"
       ]
      },
      {
       "output_type": "stream",
       "stream": "stdout",
       "text": [
        "\n",
        "22\n",
        "23"
       ]
      },
      {
       "output_type": "stream",
       "stream": "stdout",
       "text": [
        "\n",
        "24\n",
        "25"
       ]
      },
      {
       "output_type": "stream",
       "stream": "stdout",
       "text": [
        "\n",
        "26\n",
        "27"
       ]
      },
      {
       "output_type": "stream",
       "stream": "stdout",
       "text": [
        "\n",
        "28\n",
        "29"
       ]
      },
      {
       "output_type": "stream",
       "stream": "stdout",
       "text": [
        "\n",
        "30\n",
        "31"
       ]
      },
      {
       "output_type": "stream",
       "stream": "stdout",
       "text": [
        "\n",
        "32\n",
        "33"
       ]
      },
      {
       "output_type": "stream",
       "stream": "stdout",
       "text": [
        "\n",
        "34\n",
        "35"
       ]
      },
      {
       "output_type": "stream",
       "stream": "stdout",
       "text": [
        "\n",
        "36\n",
        "37"
       ]
      },
      {
       "output_type": "stream",
       "stream": "stdout",
       "text": [
        "\n",
        "38\n",
        "39"
       ]
      },
      {
       "output_type": "stream",
       "stream": "stdout",
       "text": [
        "\n",
        "40\n",
        "40"
       ]
      },
      {
       "output_type": "stream",
       "stream": "stdout",
       "text": [
        "\n",
        "40\n",
        "40\n",
        "40"
       ]
      },
      {
       "output_type": "stream",
       "stream": "stdout",
       "text": [
        "\n",
        "40\n",
        "40\n",
        "40"
       ]
      },
      {
       "output_type": "stream",
       "stream": "stdout",
       "text": [
        "\n",
        "40\n",
        "40\n",
        "40"
       ]
      },
      {
       "output_type": "stream",
       "stream": "stdout",
       "text": [
        "\n",
        "40\n",
        "40\n",
        "40"
       ]
      },
      {
       "output_type": "stream",
       "stream": "stdout",
       "text": [
        "\n",
        "40\n",
        "40\n",
        "40\n",
        "40"
       ]
      },
      {
       "output_type": "stream",
       "stream": "stdout",
       "text": [
        "\n",
        "40\n",
        "40\n",
        "40\n",
        "40"
       ]
      },
      {
       "output_type": "stream",
       "stream": "stdout",
       "text": [
        "\n",
        "40\n",
        "40\n",
        "40\n",
        "40\n",
        "40"
       ]
      },
      {
       "output_type": "stream",
       "stream": "stdout",
       "text": [
        "\n",
        "40\n",
        "40\n",
        "40\n",
        "40\n",
        "40\n",
        "40\n",
        "40"
       ]
      },
      {
       "output_type": "stream",
       "stream": "stdout",
       "text": [
        "\n",
        "40\n",
        "40\n",
        "40\n",
        "40\n",
        "40\n",
        "40\n",
        "40\n",
        "40\n",
        "40\n",
        "40\n",
        "40\n",
        "40\n",
        "40\n",
        "40\n",
        "40\n",
        "40\n",
        "40\n",
        "40\n",
        "40\n",
        "40\n"
       ]
      }
     ],
     "prompt_number": 26
    },
    {
     "cell_type": "code",
     "collapsed": false,
     "input": [
      "xs, ys, zs = zip(*net.pos)\n",
      "nucleus = [n.nucleus for n in net.neurons]"
     ],
     "language": "python",
     "metadata": {},
     "outputs": [],
     "prompt_number": 27
    },
    {
     "cell_type": "code",
     "collapsed": false,
     "input": [
      "fig = plt.figure()\n",
      "ax = fig.add_subplot(111, projection='3d')\n",
      "\n",
      "ax.scatter(xs, ys, zs, s=80, c=nucleus, depthshade=False)\n",
      "plt.show()"
     ],
     "language": "python",
     "metadata": {},
     "outputs": []
    },
    {
     "cell_type": "code",
     "collapsed": false,
     "input": [
      "net.output"
     ],
     "language": "python",
     "metadata": {},
     "outputs": [
      {
       "metadata": {},
       "output_type": "pyout",
       "prompt_number": 24,
       "text": [
        "[503436631301355.81,\n",
        " 1210108302840831.0,\n",
        " 1625312048049898.8,\n",
        " 1769242594822162.0,\n",
        " 1729100513573348.5,\n",
        " 1722687907928147.5,\n",
        " 1774708136153505.5,\n",
        " 1811775914806403.5,\n",
        " 1862679559316292.0,\n",
        " 1841789014131940.2,\n",
        " 1268250967552310.0,\n",
        " 581978379161944.12,\n",
        " 190155073052288.97,\n",
        " 47602089848533.203,\n",
        " 9691205166234.4805,\n",
        " 1664497122861.1208,\n",
        " 243533976525.74805,\n",
        " 30040197089.554745,\n",
        " 3100436975.873261,\n",
        " 276637119.31565881,\n",
        " 22530881.275704846,\n",
        " 1611625.891984283,\n",
        " 83342.920420856593,\n",
        " 2532.3758286939965,\n",
        " 0,\n",
        " 579450822749891.5,\n",
        " 1245777130239187.8,\n",
        " 1594043952142971.2,\n",
        " 1706095007542549.5,\n",
        " 1704141050671689.8,\n",
        " 1719339180675487.0,\n",
        " 1738140853050352.0,\n",
        " 1743043204522133.2,\n",
        " 1746470139081425.0,\n",
        " 1750180643283361.0,\n",
        " 1747410348430701.0,\n",
        " 1775688623887705.2,\n",
        " 1802031936048696.5,\n",
        " 1761806486064851.0,\n",
        " 1741909949614130.8,\n",
        " 1704707384954138.0,\n",
        " 1671869257360124.0,\n",
        " 1721732521630687.0,\n",
        " 1787496622101768.8,\n",
        " 1780562991764630.5,\n",
        " 1195356272635620.5,\n",
        " 530133486834026.81,\n",
        " 166239110733854.19,\n",
        " 38992347991046.836,\n",
        " 7110559304012.7539,\n",
        " 1036198730210.9077,\n",
        " 123420468228.40965,\n",
        " 12319332849.659122,\n",
        " 1078291421.788739,\n",
        " 91078925.859855041,\n",
        " 7957466.4587288452,\n",
        " 727293.53819298022,\n",
        " 86988.258527254569,\n",
        " 7650.5002987364023,\n",
        " 247.97411933954038,\n",
        " 581396010147916.25,\n",
        " 1214025726913465.5,\n",
        " 1540513744989063.0,\n",
        " 1700178830432921.8,\n",
        " 1748290760040432.5,\n",
        " 1773908699660355.0,\n",
        " 1718740166823677.0,\n",
        " 1679984780449129.8,\n",
        " 1723005072281162.0,\n",
        " 1765401422722848.5,\n",
        " 1762439763169145.5,\n",
        " 1801952506824322.2,\n",
        " 1820720339856951.2,\n",
        " 1775520716248364.5,\n",
        " 1798463350065069.0,\n",
        " 1818453438605086.2,\n",
        " 1796069039682700.0,\n",
        " 1741100181186348.0,\n",
        " 1721257550651903.5,\n",
        " 1729414080527387.0,\n",
        " 1757947577592585.0,\n",
        " 1763358013609953.0,\n",
        " 1779915222778737.8,\n",
        " 1748068717275262.5,\n",
        " 1718400511989493.0,\n",
        " 1721086627244753.5,\n",
        " 1784262906098919.0,\n",
        " 1836027306327341.8,\n",
        " 1852001211125531.2,\n",
        " 1761603356167969.0,\n",
        " 1731929722363607.5,\n",
        " 1709746837361364.5,\n",
        " 1733556489856323.5,\n",
        " 1753936392589288.5,\n",
        " 1778657640179918.0,\n",
        " 1700520151797851.0,\n",
        " 1663139467705521.2,\n",
        " 1662083051516850.5,\n",
        " 1695436894374612.5,\n",
        " 1772218063809517.8,\n",
        " 1752635066695404.8,\n",
        " 1711577767928672.5,\n",
        " 1687892256593369.0,\n",
        " 1664224219715250.0,\n",
        " 1689994274833407.0,\n",
        " 1723176748978427.5,\n",
        " 1749287287566199.5,\n",
        " 1798845174587125.2,\n",
        " 1813338173607003.2,\n",
        " 1805030029650996.0,\n",
        " 1786784143877728.2,\n",
        " 1753860550894537.5,\n",
        " 1752463791165547.8,\n",
        " 1776521652057428.8,\n",
        " 1799187939899581.5,\n",
        " 1782056580367963.0,\n",
        " 1734226554557456.8,\n",
        " 1749710318677324.5,\n",
        " 1827034621427739.2,\n",
        " 1793031346941706.0,\n",
        " 1793117333093888.0,\n",
        " 1776372682644478.0,\n",
        " 1791949992410845.0,\n",
        " 1774575310579123.0,\n",
        " 1738519160965601.2,\n",
        " 1770693395833765.5,\n",
        " 1806180228037536.0,\n",
        " 1768311420023804.0,\n",
        " 1737855708213338.5,\n",
        " 1749250084311819.0,\n",
        " 1822802814970364.8,\n",
        " 1812839122602819.0,\n",
        " 1845045193572276.0,\n",
        " 1806626320091337.0,\n",
        " 1772824440973970.5,\n",
        " 1774209056660836.0,\n",
        " 1755113494521588.5,\n",
        " 1734484232707251.5,\n",
        " 1712841273304373.5,\n",
        " 1729979742651562.5,\n",
        " 1780228796772369.0,\n",
        " 1772959055427971.5,\n",
        " 1735329045140126.8,\n",
        " 1695227333610385.0,\n",
        " 1659970972115532.2,\n",
        " 1703683977113633.5,\n",
        " 1730727416131895.5,\n",
        " 1720516011404183.0,\n",
        " 1730764227455616.5,\n",
        " 1725057359578884.0,\n",
        " 1741041178620823.0,\n",
        " 1806900403279077.0,\n",
        " 1868754722601741.5,\n",
        " 1840207193829422.0,\n",
        " 1756785187656390.2,\n",
        " 1758728350060267.0,\n",
        " 1793444511166185.5,\n",
        " 1819637669590745.5,\n",
        " 1837674295139555.5,\n",
        " 1851302041620859.5,\n",
        " 1820058703795182.0,\n",
        " 1758955688860688.8,\n",
        " 1732299584319551.0,\n",
        " 1747609436672065.2,\n",
        " 1760757554005987.5,\n",
        " 1775233129315286.5,\n",
        " 1732984970400787.0,\n",
        " 1635566817048107.5,\n",
        " 1590655039520993.8,\n",
        " 1610512207057215.8,\n",
        " 1680705242555774.0,\n",
        " 1732720501667919.2,\n",
        " 1716707768453929.2,\n",
        " 1729399944987202.0,\n",
        " 1758739374800499.5,\n",
        " 1750707814161380.5,\n",
        " 1763459235538760.0,\n",
        " 1703486510120291.2,\n",
        " 1690274473137779.5,\n",
        " 1738736165161888.5,\n",
        " 1725329666011162.2,\n",
        " 1715048684067220.5,\n",
        " 1756449775163214.8,\n",
        " 1739933679161376.8,\n",
        " 1716002966167214.0,\n",
        " 1693746682354972.0,\n",
        " 1714568121619054.0,\n",
        " 1744483255894184.0,\n",
        " 1797467267006132.8,\n",
        " 1796440895310050.0,\n",
        " 1728644730347544.5,\n",
        " 1732246299338570.5,\n",
        " 1741396516550589.5,\n",
        " 1715243023570489.0,\n",
        " 1687391480282613.0,\n",
        " 1635953886614663.2,\n",
        " 1621905758780359.8,\n",
        " 1629931392335253.0,\n",
        " 1663383486498903.0,\n",
        " 1676798171415879.0,\n",
        " 1659600048634103.5,\n",
        " 1669670675134146.0,\n",
        " 1686228048097249.2,\n",
        " 1707114142853856.5,\n",
        " 1765141752523249.5,\n",
        " 1754338356014801.8,\n",
        " 1723957873319446.0,\n",
        " 1700097261964204.0,\n",
        " 1750009280296377.8,\n",
        " 1782044472054274.8,\n",
        " 1776218678346882.0,\n",
        " 1758380968228843.5,\n",
        " 1788709152685307.0,\n",
        " 1801650093789653.8,\n",
        " 1742136171996866.5,\n",
        " 1688865624524459.2,\n",
        " 1710406768901948.5,\n",
        " 1732633504385683.5,\n",
        " 1735188423839291.5,\n",
        " 1689817242788765.2,\n",
        " 1686720650912937.5,\n",
        " 1707512916836163.0,\n",
        " 1686513168509182.2,\n",
        " 1688652050208773.5,\n",
        " 1767712081319489.5,\n",
        " 1782780906789094.5,\n",
        " 1762810243004996.0,\n",
        " 1798746223183312.5,\n",
        " 1804834247835318.5,\n",
        " 1763377947800008.0,\n",
        " 1770385608038871.5,\n",
        " 1799530376731725.0,\n",
        " 1782222501490707.5,\n",
        " 1791472639056446.0,\n",
        " 1846858157453869.5,\n",
        " 1848446362346744.8,\n",
        " 1782363964937510.2,\n",
        " 1737345404265360.8,\n",
        " 1710194163124813.0,\n",
        " 1708715298872954.0,\n",
        " 1784884151446421.2,\n",
        " 1815727775472568.0,\n",
        " 1795753622794270.5,\n",
        " 1749111968446575.2,\n",
        " 1687909804266998.5,\n",
        " 1670814465107012.5,\n",
        " 1701514964027572.5,\n",
        " 1718247407857254.5,\n",
        " 1734443808946241.0,\n",
        " 1746623593288621.5,\n",
        " 1753334089813842.0,\n",
        " 1754511279192027.5,\n",
        " 1755514479067415.8,\n",
        " 1761792734387181.8,\n",
        " 1800970356180958.0,\n",
        " 1815751569026317.5,\n",
        " 1808981938699492.5,\n",
        " 1827247567151354.0,\n",
        " 1772771113753410.5,\n",
        " 1764925619774245.5,\n",
        " 1271850593335092.0,\n",
        " 613030026025956.75,\n",
        " 207788609292838.31,\n",
        " 52299882505871.609,\n",
        " 10174422430799.186,\n",
        " 1573023798370.9717,\n",
        " 197215756442.23376,\n",
        " 20374903731.158062,\n",
        " 1767560395.7230372,\n",
        " 134249692.78457108,\n",
        " 9357554.7924561612,\n",
        " 560747.57588028884,\n",
        " 22580.99569911051,\n",
        " 324.74745027064466]"
       ]
      }
     ],
     "prompt_number": 24
    }
   ],
   "metadata": {}
  }
 ]
}