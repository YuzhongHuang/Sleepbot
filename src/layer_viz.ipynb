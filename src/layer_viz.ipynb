{
 "metadata": {
  "name": "",
  "signature": "sha256:9cde88f9a91d63ce11b4bd16ed8f165d1b9e0638b4e1b6dc73210afb71bc9af1"
 },
 "nbformat": 3,
 "nbformat_minor": 0,
 "worksheets": [
  {
   "cells": [
    {
     "cell_type": "code",
     "collapsed": false,
     "input": [
      "import numpy as np\n",
      "import matplotlib.pyplot as plt\n",
      "import matplotlib.animation as animation\n",
      "from pylab import *"
     ],
     "language": "python",
     "metadata": {},
     "outputs": [],
     "prompt_number": 1
    },
    {
     "cell_type": "code",
     "collapsed": false,
     "input": [
      "# fake layer data\n",
      "time = 100\n",
      "layer = np.random.randn(100,32,32)"
     ],
     "language": "python",
     "metadata": {},
     "outputs": [],
     "prompt_number": 2
    },
    {
     "cell_type": "code",
     "collapsed": false,
     "input": [
      "dpi = 100\n",
      "\n",
      "fig = plt.figure()\n",
      "ax = fig.add_subplot(111)\n",
      "ax.set_aspect('equal')\n",
      "ax.get_xaxis().set_visible(False)\n",
      "ax.get_yaxis().set_visible(False)\n",
      "\n",
      "im = ax.imshow(np.random.rand(1,32),cmap='gray',interpolation='nearest')\n",
      "im.set_clim([0,1])\n",
      "fig.set_size_inches([5,5])\n",
      "\n",
      "\n",
      "plt.tight_layout()\n",
      "\n",
      "\n",
      "def update_img(n):\n",
      "    im.set_data(layer[n])\n",
      "    return im\n",
      "\n",
      "#legend(loc=0)\n",
      "ani = animation.FuncAnimation(fig,update_img,100,interval=100)\n",
      "writer = animation.writers['ffmpeg'](fps=5)\n",
      "\n",
      "ani.save('demo.mp4',writer=writer,dpi=dpi)"
     ],
     "language": "python",
     "metadata": {},
     "outputs": [],
     "prompt_number": 3
    }
   ],
   "metadata": {}
  }
 ]
}