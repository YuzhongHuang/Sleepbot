{
 "metadata": {
  "name": "",
  "signature": "sha256:957fbb2334f79c04df2c2f97db7d5cb1e9dd53038d8354647541f01b94a94e09"
 },
 "nbformat": 3,
 "nbformat_minor": 0,
 "worksheets": [
  {
   "cells": [
    {
     "cell_type": "code",
     "collapsed": false,
     "input": [
      "import numpy as np\n",
      "from scipy import stats\n",
      "import matplotlib.pyplot as plt\n",
      "from mpl_toolkits.mplot3d import Axes3D "
     ],
     "language": "python",
     "metadata": {},
     "outputs": [],
     "prompt_number": 1
    },
    {
     "cell_type": "code",
     "collapsed": false,
     "input": [
      "def get_points(p1, p2, pixel=0.01):\n",
      "    xs = np.linspace(p1[0], p2[0], (p2[0]-p1[0])/pixel)\n",
      "    ys = np.linspace(p1[1], p2[1], (p2[0]-p1[0])/pixel)\n",
      "    zs = np.linspace(p1[2], p2[2], (p2[0]-p1[0])/pixel)\n",
      "    return xs, ys, zs"
     ],
     "language": "python",
     "metadata": {},
     "outputs": [],
     "prompt_number": 19
    },
    {
     "cell_type": "code",
     "collapsed": false,
     "input": [
      "mu, sigma = 0, 1 \n",
      "xs = np.random.normal(mu, sigma, 1000)\n",
      "ys = np.random.normal(mu, sigma, 1000)\n",
      "zs = np.random.normal(mu, sigma, 1000)\n",
      "\n",
      "points = [(x,y,z) for x, y, z in zip(xs, ys, zs)]\n",
      "\n",
      "fig = plt.figure()\n",
      "ax = fig.add_subplot(111, projection='3d')\n",
      "\n",
      "# for i in range(len(points)-1):\n",
      "#     ax.plot(*get_points(points[i], points[i+1]), c=(0,0,0))\n",
      "    \n",
      "ax.scatter(xs, ys, zs, s=80, c=zs, depthshade=False)\n",
      "plt.show()"
     ],
     "language": "python",
     "metadata": {},
     "outputs": []
    }
   ],
   "metadata": {}
  }
 ]
}