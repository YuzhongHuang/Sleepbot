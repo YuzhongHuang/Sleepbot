{
 "cells": [
  {
   "cell_type": "code",
   "execution_count": 1,
   "metadata": {
    "collapsed": false
   },
   "outputs": [
    {
     "name": "stderr",
     "output_type": "stream",
     "text": [
      "Using TensorFlow backend.\n"
     ]
    }
   ],
   "source": [
    "import keras\n",
    "from keras.applications import VGG19, InceptionV3\n",
    "from keras.preprocessing.image import img_to_array\n",
    "from keras.preprocessing.image import load_img\n",
    "import numpy as np\n",
    "\n",
    "from keras.layers.convolutional import Conv2D\n",
    "from keras.engine.topology import InputLayer\n",
    "from keras.layers.pooling import MaxPooling2D\n",
    "\n",
    "from attr import attrs, attrib"
   ]
  },
  {
   "cell_type": "code",
   "execution_count": 15,
   "metadata": {
    "collapsed": false
   },
   "outputs": [
    {
     "name": "stdout",
     "output_type": "stream",
     "text": [
      "The line_profiler extension is already loaded. To reload it, use:\n",
      "  %reload_ext line_profiler\n"
     ]
    }
   ],
   "source": [
    "%load_ext line_profiler"
   ]
  },
  {
   "cell_type": "code",
   "execution_count": 2,
   "metadata": {
    "collapsed": false
   },
   "outputs": [],
   "source": [
    "im_size = (224, 224, 3)\n",
    "\n",
    "random_img = np.random.uniform(size=im_size)\n",
    "model_input = keras.layers.Input(shape=im_size)"
   ]
  },
  {
   "cell_type": "code",
   "execution_count": 3,
   "metadata": {
    "collapsed": false
   },
   "outputs": [],
   "source": [
    "trained_vgg = VGG19(input_tensor=model_input)\n",
    "untrained_vgg = VGG19(input_tensor=model_input, weights=None)"
   ]
  },
  {
   "cell_type": "code",
   "execution_count": 4,
   "metadata": {
    "collapsed": false
   },
   "outputs": [],
   "source": [
    "@attrs\n",
    "class GraphableNeruon(object):\n",
    "    weights = attrib()\n",
    "    bias = attrib()\n",
    "    layer = attrib()\n",
    "    neuron_number = attrib()\n",
    "    layer_type = attrib()\n",
    "\n",
    "\n"
   ]
  },
  {
   "cell_type": "code",
   "execution_count": 5,
   "metadata": {
    "collapsed": false
   },
   "outputs": [],
   "source": [
    "def get_neurons(net):\n",
    "    neurons = []\n",
    "    for i, layer in enumerate(net.layers):\n",
    "        if type(layer) is Conv2D:\n",
    "            wts, bias = layer.get_weights()\n",
    "            for nn, (w, b) in enumerate(zip(wts.T, bias)):\n",
    "                neurons.append(GraphableNeruon(w, b, i, nn, layer.get_config()))\n",
    "    return neurons"
   ]
  },
  {
   "cell_type": "code",
   "execution_count": 18,
   "metadata": {
    "collapsed": true
   },
   "outputs": [],
   "source": [
    "def set_neurons(neurons, net):\n",
    "    last_neuron = neurons[0]\n",
    "    layer = net.layers[last_neuron.layer]\n",
    "    layer_weights, layer_bias = layer.get_weights()\n",
    "    layer_weights = layer_weights.T\n",
    "    for n in neurons:\n",
    "        if not last_neuron.layer == n.layer:\n",
    "            layer.set_weights([layer_weights.T, layer_bias])\n",
    "            layer = net.layers[n.layer]\n",
    "            layer_weights, layer_bias = layer.get_weights()\n",
    "            layer_weights = layer_weights.T\n",
    "            last_neuron = n\n",
    "        \n",
    "        layer_weights[n.neuron_number] = n.weights\n",
    "        layer_bias[n.neuron_number] = n.bias\n",
    "        \n",
    "    \n",
    "        "
   ]
  },
  {
   "cell_type": "code",
   "execution_count": 19,
   "metadata": {
    "collapsed": false
   },
   "outputs": [],
   "source": [
    "%lprun -f set_neurons set_neurons(get_neurons(trained_vgg), trained_vgg)"
   ]
  },
  {
   "cell_type": "code",
   "execution_count": 8,
   "metadata": {
    "collapsed": false
   },
   "outputs": [
    {
     "data": {
      "text/plain": [
       "[[], [], [], [], [], []]"
      ]
     },
     "execution_count": 8,
     "metadata": {},
     "output_type": "execute_result"
    }
   ],
   "source": [
    "6*[[]]"
   ]
  },
  {
   "cell_type": "code",
   "execution_count": 9,
   "metadata": {
    "collapsed": false
   },
   "outputs": [],
   "source": [
    "a = trained_vgg.layers[1]"
   ]
  },
  {
   "cell_type": "code",
   "execution_count": 10,
   "metadata": {
    "collapsed": false
   },
   "outputs": [
    {
     "data": {
      "text/plain": [
       "<bound method Layer.set_weights of <keras.layers.convolutional.Conv2D object at 0x7f0978059dd8>>"
      ]
     },
     "execution_count": 10,
     "metadata": {},
     "output_type": "execute_result"
    }
   ],
   "source": [
    "trained_vgg.layers[1].set_weights"
   ]
  },
  {
   "cell_type": "code",
   "execution_count": 11,
   "metadata": {
    "collapsed": false
   },
   "outputs": [
    {
     "data": {
      "text/plain": [
       "<bound method Layer.set_weights of <keras.engine.topology.InputLayer object at 0x7f089c0b50b8>>"
      ]
     },
     "execution_count": 11,
     "metadata": {},
     "output_type": "execute_result"
    }
   ],
   "source": [
    "trained_vgg.layers[0].set_weights"
   ]
  },
  {
   "cell_type": "code",
   "execution_count": 12,
   "metadata": {
    "collapsed": true
   },
   "outputs": [],
   "source": [
    "a.set_weights?"
   ]
  },
  {
   "cell_type": "code",
   "execution_count": 13,
   "metadata": {
    "collapsed": false
   },
   "outputs": [],
   "source": [
    "%load_ext line_profiler"
   ]
  },
  {
   "cell_type": "code",
   "execution_count": 14,
   "metadata": {
    "collapsed": false
   },
   "outputs": [
    {
     "name": "stdout",
     "output_type": "stream",
     "text": [
      "Fetching package metadata .......\n",
      "Solving package specifications: ..........\n",
      "\n",
      "Package plan for installation in environment /home/dhash/anaconda3:\n",
      "\n",
      "The following packages will be downloaded:\n",
      "\n",
      "    package                    |            build\n",
      "    ---------------------------|-----------------\n",
      "    anaconda-custom            |           py35_0           3 KB\n",
      "    requests-2.13.0            |           py35_0         811 KB\n",
      "    line_profiler-2.0          |           py35_0         131 KB\n",
      "    pyopenssl-16.2.0           |           py35_0          70 KB\n",
      "    conda-4.3.16               |           py35_0         510 KB\n",
      "    ------------------------------------------------------------\n",
      "                                           Total:         1.5 MB\n",
      "\n",
      "The following NEW packages will be INSTALLED:\n",
      "\n",
      "    line_profiler: 2.0-py35_0       \n",
      "\n",
      "The following packages will be UPDATED:\n",
      "\n",
      "    anaconda:      4.2.0-np111py35_0 --> custom-py35_0\n",
      "    conda:         4.2.13-py35_0     --> 4.3.16-py35_0\n",
      "    pyopenssl:     16.0.0-py35_0     --> 16.2.0-py35_0\n",
      "    requests:      2.11.1-py35_0     --> 2.13.0-py35_0\n",
      "\n",
      "Proceed ([y]/n)? ^C\n"
     ]
    }
   ],
   "source": [
    "!conda install line_profiler"
   ]
  },
  {
   "cell_type": "code",
   "execution_count": null,
   "metadata": {
    "collapsed": true
   },
   "outputs": [],
   "source": []
  }
 ],
 "metadata": {
  "anaconda-cloud": {},
  "kernelspec": {
   "display_name": "Python [conda root]",
   "language": "python",
   "name": "conda-root-py"
  },
  "language_info": {
   "codemirror_mode": {
    "name": "ipython",
    "version": 3
   },
   "file_extension": ".py",
   "mimetype": "text/x-python",
   "name": "python",
   "nbconvert_exporter": "python",
   "pygments_lexer": "ipython3",
   "version": "3.5.2"
  }
 },
 "nbformat": 4,
 "nbformat_minor": 1
}
